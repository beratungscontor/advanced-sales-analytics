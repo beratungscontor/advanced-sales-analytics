{
 "cells": [
  {
   "attachments": {},
   "cell_type": "markdown",
   "metadata": {},
   "source": [
    "# 🩺 Anomaly Detection\n",
    "\n",
    "https://emojiterra.com/de/stethoskop/"
   ]
  }
 ],
 "metadata": {
  "language_info": {
   "name": "python"
  },
  "orig_nbformat": 4
 },
 "nbformat": 4,
 "nbformat_minor": 2
}
